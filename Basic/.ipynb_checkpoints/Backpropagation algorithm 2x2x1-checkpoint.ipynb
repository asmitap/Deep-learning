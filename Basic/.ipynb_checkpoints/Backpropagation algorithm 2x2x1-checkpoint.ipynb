{
 "cells": [
  {
   "cell_type": "markdown",
   "id": "374d9e1e",
   "metadata": {},
   "source": [
    "### Implement Backpropagation algorithm to train an ANN of configuration 2x2x1 to achieve XOR function."
   ]
  },
  {
   "cell_type": "code",
   "execution_count": 1,
   "id": "3d391d87",
   "metadata": {},
   "outputs": [],
   "source": [
    "import numpy as np\n",
    "import pandas as pd"
   ]
  },
  {
   "cell_type": "code",
   "execution_count": 2,
   "id": "65792167",
   "metadata": {},
   "outputs": [],
   "source": [
    "# sigmoid function\n",
    "def sigmoid(z):\n",
    "    return 1 / (1 + np.exp(-z))"
   ]
  },
  {
   "cell_type": "code",
   "execution_count": 3,
   "id": "fc22f1e0",
   "metadata": {},
   "outputs": [],
   "source": [
    "# sigmoid function derivative\n",
    "def sigmoid_derivative(z):\n",
    "    return z * (1 - z)\n"
   ]
  },
  {
   "cell_type": "code",
   "execution_count": 4,
   "id": "c81823c1",
   "metadata": {},
   "outputs": [
    {
     "name": "stdout",
     "output_type": "stream",
     "text": [
      "[[0 0]\n",
      " [0 1]\n",
      " [1 0]\n",
      " [1 1]]\n",
      "[[0]\n",
      " [1]\n",
      " [1]\n",
      " [0]]\n"
     ]
    }
   ],
   "source": [
    "# input and output data\n",
    "input_data = np.array([[0, 0], [0, 1], [1, 0], [1, 1]])\n",
    "output_data = np.array([[0], [1], [1], [0]])\n",
    "print(input_data)\n",
    "print(output_data)"
   ]
  },
  {
   "cell_type": "code",
   "execution_count": 5,
   "id": "21cf443d",
   "metadata": {},
   "outputs": [
    {
     "name": "stdout",
     "output_type": "stream",
     "text": [
      "[[0.31578421 0.75995154]\n",
      " [0.94527165 0.62172839]]\n",
      "[[0.89619979]\n",
      " [0.22474174]]\n",
      "[[0.84821966 0.27853513]]\n",
      "[[0.84964821]]\n"
     ]
    }
   ],
   "source": [
    "# initialize weight and bias\n",
    "input_weights = np.random.uniform(size=(2, 2))\n",
    "hidden_weights = np.random.uniform(size=(2, 1))\n",
    "input_bias = np.random.uniform(size=(1, 2))\n",
    "hidden_bias = np.random.uniform(size=(1, 1))\n",
    "print(input_weights)\n",
    "print(hidden_weights)\n",
    "print(input_bias)\n",
    "print(hidden_bias)"
   ]
  },
  {
   "cell_type": "code",
   "execution_count": 6,
   "id": "ff477fb4",
   "metadata": {},
   "outputs": [],
   "source": [
    "# initialize learning rate \n",
    "learning_rate = 0.1\n",
    "# number of iterations\n",
    "iterations = 10000"
   ]
  },
  {
   "cell_type": "code",
   "execution_count": 7,
   "id": "008420d0",
   "metadata": {},
   "outputs": [
    {
     "name": "stdout",
     "output_type": "stream",
     "text": [
      "[[0.]\n",
      " [1.]\n",
      " [1.]\n",
      " [0.]]\n"
     ]
    }
   ],
   "source": [
    "# Train the neural network using backpropagation\n",
    "for i in range(iterations):\n",
    "    # Forward propagation\n",
    "    hidden_input = np.dot(input_data, input_weights) + input_bias\n",
    "    hidden_activation = sigmoid(hidden_input)\n",
    "    output_layer_input = np.dot(hidden_activation, hidden_weights) + hidden_bias\n",
    "    predicted_output = sigmoid(output_layer_input)\n",
    "\n",
    "    # Backpropagation\n",
    "    error = output_data - predicted_output\n",
    "    d_predicted_output = error * sigmoid_derivative(predicted_output)\n",
    "\n",
    "    error_hidden_layer = d_predicted_output.dot(hidden_weights.T)\n",
    "    d_hidden_layer = error_hidden_layer * sigmoid_derivative(hidden_activation)\n",
    "\n",
    "    # Update weights and biases\n",
    "    hidden_weights += hidden_activation.T.dot(d_predicted_output) * learning_rate\n",
    "    input_weights += input_data.T.dot(d_hidden_layer) * learning_rate\n",
    "    hidden_bias += np.sum(d_predicted_output, axis=0, keepdims=True) * learning_rate\n",
    "    input_bias += np.sum(d_hidden_layer, axis=0, keepdims=True) * learning_rate\n",
    "\n",
    "# Print the predicted output after training\n",
    "#print(predicted_output)\n",
    "print(np.round(predicted_output))"
   ]
  }
 ],
 "metadata": {
  "kernelspec": {
   "display_name": "Python 3 (ipykernel)",
   "language": "python",
   "name": "python3"
  },
  "language_info": {
   "codemirror_mode": {
    "name": "ipython",
    "version": 3
   },
   "file_extension": ".py",
   "mimetype": "text/x-python",
   "name": "python",
   "nbconvert_exporter": "python",
   "pygments_lexer": "ipython3",
   "version": "3.9.12"
  }
 },
 "nbformat": 4,
 "nbformat_minor": 5
}
