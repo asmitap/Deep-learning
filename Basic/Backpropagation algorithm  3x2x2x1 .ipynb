{
 "cells": [
  {
   "cell_type": "markdown",
   "id": "764bf497",
   "metadata": {},
   "source": [
    "### Implement Backpropagation algorithm to train an ANN of configuration 3x2x2x1 to achieve majority function with 3-bit data. Output of the network must be 1 when there are two or more 1’s in the data."
   ]
  },
  {
   "cell_type": "code",
   "execution_count": 1,
   "id": "11b0d2ee",
   "metadata": {},
   "outputs": [],
   "source": [
    "import numpy as np"
   ]
  },
  {
   "cell_type": "code",
   "execution_count": 2,
   "id": "d2394b1f",
   "metadata": {},
   "outputs": [],
   "source": [
    "# sigmoid function\n",
    "def sigmoid(x):\n",
    "    return 1 / (1 + np.exp(-x))"
   ]
  },
  {
   "cell_type": "code",
   "execution_count": 3,
   "id": "c9a4e467",
   "metadata": {},
   "outputs": [],
   "source": [
    "# derivative of sigmoid function\n",
    "def sigmoid_derivative(x):\n",
    "    return x * (1 - x)"
   ]
  },
  {
   "cell_type": "code",
   "execution_count": 4,
   "id": "83515fca",
   "metadata": {},
   "outputs": [],
   "source": [
    "# input data\n",
    "input_data = np.array([[0, 0, 0],\n",
    "                       [0, 0, 1],\n",
    "                       [0, 1, 0],\n",
    "                       [0, 1, 1],\n",
    "                       [1, 0, 0],\n",
    "                       [1, 0, 1],\n",
    "                       [1, 1, 0],\n",
    "                       [1, 1, 1]])"
   ]
  },
  {
   "cell_type": "code",
   "execution_count": 5,
   "id": "36fc4e19",
   "metadata": {},
   "outputs": [],
   "source": [
    "# output data\n",
    "output_data = np.array([[0], [0], [0], [1], [0], [1], [1], [1]])"
   ]
  },
  {
   "cell_type": "code",
   "execution_count": 6,
   "id": "67b657fb",
   "metadata": {},
   "outputs": [],
   "source": [
    "# network configuration\n",
    "input_layer_size = 3\n",
    "hidden_layer1_size = 2\n",
    "hidden_layer2_size = 2\n",
    "output_layer_size = 1\n"
   ]
  },
  {
   "cell_type": "code",
   "execution_count": 7,
   "id": "5a65641c",
   "metadata": {},
   "outputs": [
    {
     "name": "stdout",
     "output_type": "stream",
     "text": [
      "input_layer_weights [[0.82287667 0.08758788]\n",
      " [0.69983921 0.57378576]\n",
      " [0.55259386 0.68905442]]\n",
      "hidden_layer1_weights [[0.08678093 0.45077755]\n",
      " [0.6206677  0.89491971]]\n",
      "hidden_layer2_weights [[0.5214842 ]\n",
      " [0.39350276]]\n",
      "input_layer_bias [[0.60446201 0.4219946 ]]\n",
      "hidden_layer1_bias [[0.89496309 0.46264843]]\n",
      "hidden_layer2_bias [[0.34476563]]\n"
     ]
    }
   ],
   "source": [
    "# Initialize the weights and biases for the network\n",
    "#By randomly initializing the weights and biases, the network is able to learn through training \n",
    "# by adjusting these values to minimize the error in its predictions\n",
    "input_layer_weights = np.random.uniform(size=(input_layer_size, hidden_layer1_size))\n",
    "hidden_layer1_weights = np.random.uniform(size=(hidden_layer1_size, hidden_layer2_size))\n",
    "hidden_layer2_weights = np.random.uniform(size=(hidden_layer2_size, output_layer_size))\n",
    "input_layer_bias = np.random.uniform(size=(1, hidden_layer1_size))\n",
    "hidden_layer1_bias = np.random.uniform(size=(1, hidden_layer2_size))\n",
    "hidden_layer2_bias = np.random.uniform(size=(1, output_layer_size))\n",
    "print(\"input_layer_weights\", input_layer_weights)\n",
    "print(\"hidden_layer1_weights\",hidden_layer1_weights)\n",
    "print(\"hidden_layer2_weights\",hidden_layer2_weights)\n",
    "print(\"input_layer_bias\",input_layer_bias)\n",
    "print(\"hidden_layer1_bias\",hidden_layer1_bias)\n",
    "print(\"hidden_layer2_bias\",hidden_layer2_bias)"
   ]
  },
  {
   "cell_type": "code",
   "execution_count": 8,
   "id": "87c11d0c",
   "metadata": {},
   "outputs": [],
   "source": [
    "# hyperparameters for the network\n",
    "learning_rate = 0.1\n",
    "iterations = 2500"
   ]
  },
  {
   "cell_type": "code",
   "execution_count": 9,
   "id": "7332022e",
   "metadata": {},
   "outputs": [
    {
     "name": "stdout",
     "output_type": "stream",
     "text": [
      "[[0.]\n",
      " [0.]\n",
      " [0.]\n",
      " [1.]\n",
      " [0.]\n",
      " [1.]\n",
      " [1.]\n",
      " [1.]]\n"
     ]
    }
   ],
   "source": [
    "# Train the network using backpropagation\n",
    "for i in range(iterations):\n",
    "    # Forward propagation\n",
    "    hidden_layer1_input = np.dot(input_data, input_layer_weights) + input_layer_bias\n",
    "    hidden_layer1_activation = sigmoid(hidden_layer1_input)\n",
    "    hidden_layer2_input = np.dot(hidden_layer1_activation, hidden_layer1_weights) + hidden_layer1_bias\n",
    "    hidden_layer2_activation = sigmoid(hidden_layer2_input)\n",
    "    output_layer_input = np.dot(hidden_layer2_activation, hidden_layer2_weights) + hidden_layer2_bias\n",
    "    predicted_output = sigmoid(output_layer_input)\n",
    "\n",
    "    # Backpropagation\n",
    "    error = output_data - predicted_output\n",
    "    d_predicted_output = error * sigmoid_derivative(predicted_output)\n",
    "\n",
    "    error_hidden_layer2 = d_predicted_output.dot(hidden_layer2_weights.T)\n",
    "    d_hidden_layer2 = error_hidden_layer2 * sigmoid_derivative(hidden_layer2_activation)\n",
    "\n",
    "    error_hidden_layer1 = d_hidden_layer2.dot(hidden_layer1_weights.T)\n",
    "    d_hidden_layer1 = error_hidden_layer1 * sigmoid_derivative(hidden_layer1_activation)\n",
    "\n",
    "    # Update weights and biases\n",
    "    hidden_layer2_weights += hidden_layer2_activation.T.dot(d_predicted_output) * learning_rate\n",
    "    hidden_layer1_weights += hidden_layer1_activation.T.dot(d_hidden_layer2) * learning_rate\n",
    "    input_layer_weights += input_data.T.dot(d_hidden_layer1) * learning_rate\n",
    "    hidden_layer2_bias += np.sum(d_predicted_output, axis=0, keepdims=True) * learning_rate\n",
    "    hidden_layer1_bias += np.sum(d_hidden_layer2, axis=0, keepdims=True) * learning_rate\n",
    "    input_layer_bias += np.sum(d_hidden_layer1, axis=0, keepdims=True) * learning_rate\n",
    "    \n",
    "print(np.round(predicted_output))\n"
   ]
  }
 ],
 "metadata": {
  "kernelspec": {
   "display_name": "Python 3 (ipykernel)",
   "language": "python",
   "name": "python3"
  },
  "language_info": {
   "codemirror_mode": {
    "name": "ipython",
    "version": 3
   },
   "file_extension": ".py",
   "mimetype": "text/x-python",
   "name": "python",
   "nbconvert_exporter": "python",
   "pygments_lexer": "ipython3",
   "version": "3.9.12"
  }
 },
 "nbformat": 4,
 "nbformat_minor": 5
}
