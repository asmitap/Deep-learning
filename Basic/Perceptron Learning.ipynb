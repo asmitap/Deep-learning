{
 "cells": [
  {
   "cell_type": "code",
   "execution_count": 1,
   "id": "fcd22f9d",
   "metadata": {},
   "outputs": [],
   "source": [
    "import pandas as pd\n",
    "import numpy as np"
   ]
  },
  {
   "cell_type": "code",
   "execution_count": 2,
   "id": "5be1296e",
   "metadata": {},
   "outputs": [
    {
     "name": "stdout",
     "output_type": "stream",
     "text": [
      "   height  weight gender\n",
      "0     5.9      75      1\n",
      "1     5.8      86      1\n",
      "2     5.2      50      0\n",
      "3     5.4      55      0\n",
      "4     6.1      85      1\n",
      "5     5.5      62      0\n",
      "6     6.0      82       \n",
      "7     5.3      52       \n"
     ]
    }
   ],
   "source": [
    "data = {'height': [5.9, 5.8, 5.2, 5.4, 6.1, 5.5, 6, 5.3],\n",
    "        'weight': [75, 86, 50, 55, 85, 62, 82, 52],\n",
    "        'gender': [1, 1, 0, 0, 1, 0, '', '']\n",
    "       }\n",
    "df = pd.DataFrame(data)\n",
    "print(df)"
   ]
  },
  {
   "cell_type": "code",
   "execution_count": 3,
   "id": "51f216c4",
   "metadata": {},
   "outputs": [
    {
     "data": {
      "text/html": [
       "<div>\n",
       "<style scoped>\n",
       "    .dataframe tbody tr th:only-of-type {\n",
       "        vertical-align: middle;\n",
       "    }\n",
       "\n",
       "    .dataframe tbody tr th {\n",
       "        vertical-align: top;\n",
       "    }\n",
       "\n",
       "    .dataframe thead th {\n",
       "        text-align: right;\n",
       "    }\n",
       "</style>\n",
       "<table border=\"1\" class=\"dataframe\">\n",
       "  <thead>\n",
       "    <tr style=\"text-align: right;\">\n",
       "      <th></th>\n",
       "      <th>height</th>\n",
       "      <th>weight</th>\n",
       "      <th>gender</th>\n",
       "    </tr>\n",
       "  </thead>\n",
       "  <tbody>\n",
       "    <tr>\n",
       "      <th>0</th>\n",
       "      <td>5.9</td>\n",
       "      <td>75</td>\n",
       "      <td>1</td>\n",
       "    </tr>\n",
       "    <tr>\n",
       "      <th>1</th>\n",
       "      <td>5.8</td>\n",
       "      <td>86</td>\n",
       "      <td>1</td>\n",
       "    </tr>\n",
       "    <tr>\n",
       "      <th>2</th>\n",
       "      <td>5.2</td>\n",
       "      <td>50</td>\n",
       "      <td>0</td>\n",
       "    </tr>\n",
       "    <tr>\n",
       "      <th>3</th>\n",
       "      <td>5.4</td>\n",
       "      <td>55</td>\n",
       "      <td>0</td>\n",
       "    </tr>\n",
       "    <tr>\n",
       "      <th>4</th>\n",
       "      <td>6.1</td>\n",
       "      <td>85</td>\n",
       "      <td>1</td>\n",
       "    </tr>\n",
       "    <tr>\n",
       "      <th>5</th>\n",
       "      <td>5.5</td>\n",
       "      <td>62</td>\n",
       "      <td>0</td>\n",
       "    </tr>\n",
       "  </tbody>\n",
       "</table>\n",
       "</div>"
      ],
      "text/plain": [
       "   height  weight gender\n",
       "0     5.9      75      1\n",
       "1     5.8      86      1\n",
       "2     5.2      50      0\n",
       "3     5.4      55      0\n",
       "4     6.1      85      1\n",
       "5     5.5      62      0"
      ]
     },
     "execution_count": 3,
     "metadata": {},
     "output_type": "execute_result"
    }
   ],
   "source": [
    "training_df = df[:6]\n",
    "training_df"
   ]
  },
  {
   "cell_type": "code",
   "execution_count": 4,
   "id": "26bafa90",
   "metadata": {},
   "outputs": [
    {
     "data": {
      "text/html": [
       "<div>\n",
       "<style scoped>\n",
       "    .dataframe tbody tr th:only-of-type {\n",
       "        vertical-align: middle;\n",
       "    }\n",
       "\n",
       "    .dataframe tbody tr th {\n",
       "        vertical-align: top;\n",
       "    }\n",
       "\n",
       "    .dataframe thead th {\n",
       "        text-align: right;\n",
       "    }\n",
       "</style>\n",
       "<table border=\"1\" class=\"dataframe\">\n",
       "  <thead>\n",
       "    <tr style=\"text-align: right;\">\n",
       "      <th></th>\n",
       "      <th>height</th>\n",
       "      <th>weight</th>\n",
       "      <th>gender</th>\n",
       "    </tr>\n",
       "  </thead>\n",
       "  <tbody>\n",
       "    <tr>\n",
       "      <th>6</th>\n",
       "      <td>6.0</td>\n",
       "      <td>82</td>\n",
       "      <td></td>\n",
       "    </tr>\n",
       "    <tr>\n",
       "      <th>7</th>\n",
       "      <td>5.3</td>\n",
       "      <td>52</td>\n",
       "      <td></td>\n",
       "    </tr>\n",
       "  </tbody>\n",
       "</table>\n",
       "</div>"
      ],
      "text/plain": [
       "   height  weight gender\n",
       "6     6.0      82       \n",
       "7     5.3      52       "
      ]
     },
     "execution_count": 4,
     "metadata": {},
     "output_type": "execute_result"
    }
   ],
   "source": [
    "testing_df = df[-2:]\n",
    "testing_df"
   ]
  },
  {
   "cell_type": "code",
   "execution_count": 5,
   "id": "b9abb637",
   "metadata": {},
   "outputs": [],
   "source": [
    "def hard_limit_activation_function(f):\n",
    "    if f > 0:\n",
    "        return 1\n",
    "    elif f == 0:\n",
    "        return 0\n",
    "    else:\n",
    "        return -1"
   ]
  },
  {
   "cell_type": "code",
   "execution_count": 6,
   "id": "4a32da4b",
   "metadata": {},
   "outputs": [
    {
     "data": {
      "text/html": [
       "<div>\n",
       "<style scoped>\n",
       "    .dataframe tbody tr th:only-of-type {\n",
       "        vertical-align: middle;\n",
       "    }\n",
       "\n",
       "    .dataframe tbody tr th {\n",
       "        vertical-align: top;\n",
       "    }\n",
       "\n",
       "    .dataframe thead th {\n",
       "        text-align: right;\n",
       "    }\n",
       "</style>\n",
       "<table border=\"1\" class=\"dataframe\">\n",
       "  <thead>\n",
       "    <tr style=\"text-align: right;\">\n",
       "      <th></th>\n",
       "      <th>height</th>\n",
       "      <th>weight</th>\n",
       "    </tr>\n",
       "  </thead>\n",
       "  <tbody>\n",
       "    <tr>\n",
       "      <th>0</th>\n",
       "      <td>5.9</td>\n",
       "      <td>75</td>\n",
       "    </tr>\n",
       "    <tr>\n",
       "      <th>1</th>\n",
       "      <td>5.8</td>\n",
       "      <td>86</td>\n",
       "    </tr>\n",
       "    <tr>\n",
       "      <th>2</th>\n",
       "      <td>5.2</td>\n",
       "      <td>50</td>\n",
       "    </tr>\n",
       "    <tr>\n",
       "      <th>3</th>\n",
       "      <td>5.4</td>\n",
       "      <td>55</td>\n",
       "    </tr>\n",
       "    <tr>\n",
       "      <th>4</th>\n",
       "      <td>6.1</td>\n",
       "      <td>85</td>\n",
       "    </tr>\n",
       "    <tr>\n",
       "      <th>5</th>\n",
       "      <td>5.5</td>\n",
       "      <td>62</td>\n",
       "    </tr>\n",
       "  </tbody>\n",
       "</table>\n",
       "</div>"
      ],
      "text/plain": [
       "   height  weight\n",
       "0     5.9      75\n",
       "1     5.8      86\n",
       "2     5.2      50\n",
       "3     5.4      55\n",
       "4     6.1      85\n",
       "5     5.5      62"
      ]
     },
     "execution_count": 6,
     "metadata": {},
     "output_type": "execute_result"
    }
   ],
   "source": [
    "normalized_column = training_df[['height', 'weight']]\n",
    "normalized_column"
   ]
  },
  {
   "cell_type": "code",
   "execution_count": 7,
   "id": "d55ed8c1",
   "metadata": {},
   "outputs": [],
   "source": [
    "def normalization(normalized_column):\n",
    "    normalized_df=(normalized_column-normalized_column.min())/(normalized_column.max()-normalized_column.min())\n",
    "    return(normalized_df)"
   ]
  },
  {
   "cell_type": "code",
   "execution_count": 8,
   "id": "0d38fecc",
   "metadata": {},
   "outputs": [
    {
     "data": {
      "text/html": [
       "<div>\n",
       "<style scoped>\n",
       "    .dataframe tbody tr th:only-of-type {\n",
       "        vertical-align: middle;\n",
       "    }\n",
       "\n",
       "    .dataframe tbody tr th {\n",
       "        vertical-align: top;\n",
       "    }\n",
       "\n",
       "    .dataframe thead th {\n",
       "        text-align: right;\n",
       "    }\n",
       "</style>\n",
       "<table border=\"1\" class=\"dataframe\">\n",
       "  <thead>\n",
       "    <tr style=\"text-align: right;\">\n",
       "      <th></th>\n",
       "      <th>height</th>\n",
       "      <th>weight</th>\n",
       "    </tr>\n",
       "  </thead>\n",
       "  <tbody>\n",
       "    <tr>\n",
       "      <th>0</th>\n",
       "      <td>0.777778</td>\n",
       "      <td>0.694444</td>\n",
       "    </tr>\n",
       "    <tr>\n",
       "      <th>1</th>\n",
       "      <td>0.666667</td>\n",
       "      <td>1.000000</td>\n",
       "    </tr>\n",
       "    <tr>\n",
       "      <th>2</th>\n",
       "      <td>0.000000</td>\n",
       "      <td>0.000000</td>\n",
       "    </tr>\n",
       "    <tr>\n",
       "      <th>3</th>\n",
       "      <td>0.222222</td>\n",
       "      <td>0.138889</td>\n",
       "    </tr>\n",
       "    <tr>\n",
       "      <th>4</th>\n",
       "      <td>1.000000</td>\n",
       "      <td>0.972222</td>\n",
       "    </tr>\n",
       "    <tr>\n",
       "      <th>5</th>\n",
       "      <td>0.333333</td>\n",
       "      <td>0.333333</td>\n",
       "    </tr>\n",
       "  </tbody>\n",
       "</table>\n",
       "</div>"
      ],
      "text/plain": [
       "     height    weight\n",
       "0  0.777778  0.694444\n",
       "1  0.666667  1.000000\n",
       "2  0.000000  0.000000\n",
       "3  0.222222  0.138889\n",
       "4  1.000000  0.972222\n",
       "5  0.333333  0.333333"
      ]
     },
     "execution_count": 8,
     "metadata": {},
     "output_type": "execute_result"
    }
   ],
   "source": [
    "normalize_df = normalization(normalized_column)\n",
    "normalize_df"
   ]
  },
  {
   "cell_type": "code",
   "execution_count": 9,
   "id": "ecb13738",
   "metadata": {},
   "outputs": [],
   "source": [
    "normalize_df = normalize_df.assign(gender=training_df['gender'])"
   ]
  },
  {
   "cell_type": "code",
   "execution_count": 10,
   "id": "ae3a5ed2",
   "metadata": {},
   "outputs": [
    {
     "name": "stdout",
     "output_type": "stream",
     "text": [
      "[[4.86167031]]\n",
      "[[3.59934162]]\n",
      "[[1.67366856]]\n",
      "[[0.81646384]]\n",
      "[[0.44173706]]\n",
      "[[0.2818506]]\n",
      "[[0.21605715]]\n",
      "[[0.19058171]]\n",
      "[[0.18183626]]\n",
      "[[0.17967671]]\n",
      "[[0.17986352]]\n",
      "[[0.18070436]]\n"
     ]
    }
   ],
   "source": [
    "w = np.zeros(2).reshape(1,2)\n",
    "alpha = 1\n",
    "b = 0\n",
    "for epoch in range(12):\n",
    "    err = []\n",
    "    for i, row in normalize_df.iterrows():\n",
    "        t = row.gender\n",
    "        x = np.array([row.height, row.weight]).reshape(1,2)\n",
    "        y = np.dot(x , w.T) + b\n",
    "        \n",
    "        \n",
    "        # for experiment \n",
    "        err.append((y-t)**2)\n",
    "        wn = w + alpha*(t - y)* x\n",
    "        bn = b + alpha*(t-y)\n",
    "        \n",
    "        w = wn \n",
    "        b = bn \n",
    "    print(0.5 *sum(err))"
   ]
  },
  {
   "cell_type": "code",
   "execution_count": 11,
   "id": "7b7ebe74",
   "metadata": {},
   "outputs": [
    {
     "name": "stdout",
     "output_type": "stream",
     "text": [
      "[[-27.26992632]]\n",
      "-1\n",
      "female\n",
      "[[-14.74991433]]\n",
      "-1\n",
      "female\n"
     ]
    }
   ],
   "source": [
    "for i, row in testing_df.iterrows():\n",
    "    \n",
    "    x = np.array([row.height, row.weight]).reshape(1,2)\n",
    "    y = np.dot(x , w.T) + b\n",
    "    print(y)\n",
    "    \n",
    "    op =  hard_limit_activation_function(y)\n",
    "    print(op)\n",
    "    if op >0:\n",
    "        print(\"male\")\n",
    "    else:\n",
    "        print(\"female\")"
   ]
  },
  {
   "cell_type": "code",
   "execution_count": null,
   "id": "c7883d0a",
   "metadata": {},
   "outputs": [],
   "source": []
  }
 ],
 "metadata": {
  "kernelspec": {
   "display_name": "Python 3 (ipykernel)",
   "language": "python",
   "name": "python3"
  },
  "language_info": {
   "codemirror_mode": {
    "name": "ipython",
    "version": 3
   },
   "file_extension": ".py",
   "mimetype": "text/x-python",
   "name": "python",
   "nbconvert_exporter": "python",
   "pygments_lexer": "ipython3",
   "version": "3.9.12"
  }
 },
 "nbformat": 4,
 "nbformat_minor": 5
}
